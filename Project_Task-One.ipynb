{
  "nbformat": 4,
  "nbformat_minor": 0,
  "metadata": {
    "colab": {
      "private_outputs": true,
      "provenance": [],
      "cell_execution_strategy": "setup",
      "authorship_tag": "ABX9TyMu41AY6Qyvl0JPIIsux6oU",
      "include_colab_link": true
    },
    "kernelspec": {
      "name": "python3",
      "display_name": "Python 3"
    },
    "language_info": {
      "name": "python"
    }
  },
  "cells": [
    {
      "cell_type": "markdown",
      "metadata": {
        "id": "view-in-github",
        "colab_type": "text"
      },
      "source": [
        "<a href=\"https://colab.research.google.com/github/bekuretsion/Pandas/blob/main/INTERN_CARRER.ipynb\" target=\"_parent\"><img src=\"https://colab.research.google.com/assets/colab-badge.svg\" alt=\"Open In Colab\"/></a>"
      ]
    },
    {
      "cell_type": "markdown",
      "source": [
        "For data exploration, you can use various techniques to understand the dataset\n",
        "\n",
        "\n",
        "*   **To Load the Dataset:**\n",
        "\n",
        "\n",
        "\n",
        "*  *Import* necessary libraries (e.g., pandas, numpy,plt).\n",
        "*   *Load* the dataset into a *DataFrame*\n",
        "\n",
        "\n",
        "\n",
        "\n"
      ],
      "metadata": {
        "id": "yb23P-FwaXxw"
      }
    },
    {
      "cell_type": "code",
      "execution_count": null,
      "metadata": {
        "id": "h7-iNjD4WVQ8"
      },
      "outputs": [],
      "source": [
        "import matplotlib.pyplot as plt\n",
        "import pandas as pd\n",
        "import seaborn as sns\n",
        "import numpy as np\n",
        "import statsmodels.api as sm\n",
        "from google.colab import drive\n",
        "drive.mount('/content/drive')"
      ]
    },
    {
      "cell_type": "code",
      "source": [
        "df=pd.read_csv(\"/content/drive/MyDrive/Data Science/Data Science/Task 1 YouTube Streamer Analysis/youtubers_df.csv\")\n",
        "df.head()\n",
        "print(df.head()) ## Display the first few rows of the dataset\n",
        "print(df.dtypes)\n",
        "df.shape"
      ],
      "metadata": {
        "id": "d5CRl8UUW_LZ"
      },
      "execution_count": null,
      "outputs": []
    },
    {
      "cell_type": "code",
      "source": [
        "df.info()"
      ],
      "metadata": {
        "id": "N3tBV6e5wgqE"
      },
      "execution_count": null,
      "outputs": []
    },
    {
      "cell_type": "code",
      "source": [
        "print(df.describe()) # to get a statistics summary"
      ],
      "metadata": {
        "id": "AkntMaijb5hl"
      },
      "execution_count": null,
      "outputs": []
    },
    {
      "cell_type": "markdown",
      "source": [
        "Task 1.2 **Check for missing data and outliers.**"
      ],
      "metadata": {
        "id": "3OKpz8-YcWnm"
      }
    },
    {
      "cell_type": "code",
      "source": [
        "print(df.isnull().sum()) # check for missing data[Identify and handle missing data.]"
      ],
      "metadata": {
        "id": "3wyk_9T-cNzK"
      },
      "execution_count": null,
      "outputs": []
    },
    {
      "cell_type": "code",
      "source": [
        "df.Categories.describe()"
      ],
      "metadata": {
        "id": "8bxBy9T9wuQm"
      },
      "execution_count": null,
      "outputs": []
    },
    {
      "cell_type": "markdown",
      "source": [
        "As we have seen above,in the categories the missing value are object type.So,We have to drop or delete the row."
      ],
      "metadata": {
        "id": "tF_pDIY8xbx6"
      }
    },
    {
      "cell_type": "code",
      "source": [
        "df['Categories'].unique()"
      ],
      "metadata": {
        "id": "lP8BvFvGxa-W"
      },
      "execution_count": null,
      "outputs": []
    },
    {
      "cell_type": "code",
      "source": [
        "df['Categories'].nunique()"
      ],
      "metadata": {
        "id": "Xp2EfeJPysrB"
      },
      "execution_count": null,
      "outputs": []
    },
    {
      "cell_type": "code",
      "source": [
        "df['Country'].unique()"
      ],
      "metadata": {
        "id": "BKLzUNuhy2HU"
      },
      "execution_count": null,
      "outputs": []
    },
    {
      "cell_type": "code",
      "source": [
        "df['Country'].nunique()"
      ],
      "metadata": {
        "id": "kg4ByLJAzDxA"
      },
      "execution_count": null,
      "outputs": []
    },
    {
      "cell_type": "code",
      "source": [
        "df1=df[~df.Categories.isnull()] #boolean mask to filter out the rows where 'Categories' is null, creating a new DataFrame df1\n",
        "df1.shape         #df1 will contain only the rows where the 'Categories' column is not null."
      ],
      "metadata": {
        "id": "BwLO5SV-zR7T"
      },
      "execution_count": null,
      "outputs": []
    },
    {
      "cell_type": "code",
      "source": [
        "correlation_matrix = df[['Suscribers', 'Likes', 'Comments']].corr()\n",
        "print(correlation_matrix)\n",
        "#creates a heatmap of the correlation matrix using Seaborn\n",
        "plt.figure(figsize=(10,8))\n",
        "sns.heatmap(correlation_matrix, annot=True, cmap='coolwarm', fmt=\".2f\", linewidths=.5)\n",
        "plt.title('Correlation Heatmap')\n",
        "plt.show()"
      ],
      "metadata": {
        "id": "XRyJvsrG1jte"
      },
      "execution_count": null,
      "outputs": []
    },
    {
      "cell_type": "code",
      "source": [
        "print(df1.isnull().sum()) #Checking (Verify)the missing data in the Catagories are removed or not"
      ],
      "metadata": {
        "id": "-i3xeBMH3oN0"
      },
      "execution_count": null,
      "outputs": []
    },
    {
      "cell_type": "code",
      "source": [
        "df.boxplot(column='Comments')\n",
        "plt.title(\"Checking Outliars in the `Comments` column\")\n",
        "plt.show()"
      ],
      "metadata": {
        "id": "bHtvjMzCcu1n"
      },
      "execution_count": null,
      "outputs": []
    },
    {
      "cell_type": "markdown",
      "source": [],
      "metadata": {
        "id": "0F_3ey5naVRO"
      }
    },
    {
      "cell_type": "code",
      "source": [
        "df.boxplot(column=\"Likes\")\n",
        "plt.title(\"Checking Outliars in the `Likes` column\")\n",
        "plt.show()"
      ],
      "metadata": {
        "id": "NXzeb6KeaMda"
      },
      "execution_count": null,
      "outputs": []
    },
    {
      "cell_type": "code",
      "source": [
        "df.boxplot(column=\"Suscribers\")\n",
        "plt.title(\"Checking Outliars in the `Subscriber` column\")\n",
        "plt.show()"
      ],
      "metadata": {
        "id": "pf2P0TnYlR7w"
      },
      "execution_count": null,
      "outputs": []
    },
    {
      "cell_type": "code",
      "source": [
        "print(df.corr()) #Correlation"
      ],
      "metadata": {
        "id": "FzkqoAkdll7u"
      },
      "execution_count": null,
      "outputs": []
    },
    {
      "cell_type": "code",
      "source": [
        "sns.boxplot(data=df[['Suscribers', 'Likes', 'Comments']])\n",
        "plt.title('Checking Outliers')\n",
        "plt.show()"
      ],
      "metadata": {
        "id": "CpvdYX36msSg"
      },
      "execution_count": null,
      "outputs": []
    },
    {
      "cell_type": "code",
      "source": [
        "category_trends = df.groupby('Suscribers').size().sort_values(ascending=False)\n",
        "print(category_trends)\n",
        "plt.show()"
      ],
      "metadata": {
        "id": "Y2jMIwHmntAL"
      },
      "execution_count": null,
      "outputs": []
    },
    {
      "cell_type": "code",
      "source": [
        "category_trends = df.groupby('Suscribers').size().sort_values(ascending=False)\n",
        "print(category_trends)\n",
        "plt.show()"
      ],
      "metadata": {
        "id": "dBImqok4n7SA"
      },
      "execution_count": null,
      "outputs": []
    },
    {
      "cell_type": "code",
      "source": [
        "category_trends = df.groupby('Likes').size().sort_values(ascending=False)\n",
        "print(category_trends)"
      ],
      "metadata": {
        "id": "xUImdulwpS9u"
      },
      "execution_count": null,
      "outputs": []
    },
    {
      "cell_type": "code",
      "source": [
        "df1.head(10)"
      ],
      "metadata": {
        "id": "hWfVznx775Z8"
      },
      "execution_count": null,
      "outputs": []
    },
    {
      "cell_type": "code",
      "source": [
        "categories = df[\"Categories\"].value_counts().head(10)\n",
        "# Plotting the bar chart\n",
        "categories.plot(kind=\"bar\")\n",
        "plt.xlabel(\"Categories\")  # Corrected typo here\n",
        "plt.ylabel(\"Count\")\n",
        "plt.title(\"Top 10 Categories\")\n",
        "plt.show()\n"
      ],
      "metadata": {
        "id": "Cua-X5z45-sZ"
      },
      "execution_count": null,
      "outputs": []
    },
    {
      "cell_type": "code",
      "source": [
        "average_metrics = df[['Suscribers', 'Visits', 'Likes', 'Comments']].mean()\n",
        "print(average_metrics)"
      ],
      "metadata": {
        "id": "xvdlqzDhqHLB"
      },
      "execution_count": null,
      "outputs": []
    },
    {
      "cell_type": "code",
      "source": [
        "\n",
        "regional_preferences = df.groupby(['Country', 'Categories']).size().unstack()\n",
        "\n",
        "# Plotting the grouped bar chart\n",
        "plt.figure(figsize=(14, 8))\n",
        "regional_preferences.plot(kind='bar', stacked=True)\n",
        "plt.xlabel('Country')\n",
        "plt.ylabel('Number of Youtubers')\n",
        "plt.title('Distribution of Youtubers\\' Categories by Country')\n",
        "plt.legend(title='Category', bbox_to_anchor=(1.05, 1), loc='upper left')\n",
        "plt.show()"
      ],
      "metadata": {
        "id": "A2m8RLWm59k5"
      },
      "execution_count": null,
      "outputs": []
    },
    {
      "cell_type": "code",
      "source": [
        " #Calculate the average numbers\n",
        " # If these columns contain null values, you may want to handle them before analysis so we can use the Correct and without nun Null values data frame\n",
        "\n",
        "average_likes = df1['Likes'].mean()\n",
        "average_comments = df1['Comments'].mean()\n",
        "average_subscribers = df1['Suscribers'].mean()\n",
        "\n",
        "# Print the results\n",
        "print(f\"Average Likes: {average_likes:.2f}\")\n",
        "print(f\"Average Comments: {average_comments:.2f}\")\n",
        "print(f\"Average Subscribers: {average_subscribers:.2f}\")\n",
        "\n",
        "plt.show()\n"
      ],
      "metadata": {
        "id": "JSebe-3v-ey_"
      },
      "execution_count": null,
      "outputs": []
    },
    {
      "cell_type": "code",
      "source": [
        "# Calculate average metrics\n",
        "average_likes = df['Likes'].mean()\n",
        "average_comments = df['Comments'].mean()\n",
        "average_subscribers = df['Suscribers'].mean()\n",
        "avarge_set=[average_likes,average_comments,average_subscribers]\n",
        "# Plot the averages and individual values\n",
        "plt.figure(figsize=(10, 6))\n",
        "\n",
        "# Plot\n",
        "Satatues=['Likes', 'Comments', 'Suscribers']\n",
        "plt.bar(Satatues,avarge_set)\n",
        "plt.xlabel('Metrics')\n",
        "plt.ylabel('Count')\n",
        "plt.title('Average and Individual Values of Likes, Comments, and Subscribers')\n",
        "plt.legend()\n",
        "plt.show()"
      ],
      "metadata": {
        "id": "wqs8uGJU_GnG"
      },
      "execution_count": null,
      "outputs": []
    },
    {
      "cell_type": "code",
      "source": [
        "# Plot the distribution of content categories\n",
        "plt.figure(figsize=(12, 6))\n",
        "df1['Categories'].value_counts().plot(kind='bar', color='skyblue')\n",
        "plt.xlabel('Categories')\n",
        "plt.ylabel('Number of Streamers')\n",
        "plt.title('Distribution of Content Categories')\n",
        "plt.show()"
      ],
      "metadata": {
        "id": "hGdyJyOwCHEu"
      },
      "execution_count": null,
      "outputs": []
    },
    {
      "cell_type": "code",
      "source": [
        "#Brand Collaborations\n",
        "plt.figure(figsize=(8, 6))\n",
        "df1['Categories'].value_counts().plot(kind='bar', color='lightgreen')\n",
        "plt.xlabel('Brand Collaborations')\n",
        "plt.ylabel('Number of youtubers')\n",
        "plt.title('Distribution of Brand Collaborations')\n",
        "plt.show()"
      ],
      "metadata": {
        "id": "LKM1FYbaC4HW"
      },
      "execution_count": null,
      "outputs": []
    },
    {
      "cell_type": "markdown",
      "source": [
        "**BenchMarking**"
      ],
      "metadata": {
        "id": "iXIozuNoKuZu"
      }
    },
    {
      "cell_type": "code",
      "source": [
        "# Benchmarking\n",
        "high_likes_threshold = df['Likes'].mean() + df['Likes'].std()\n",
        "high_comments_threshold = df['Comments'].mean() + df['Comments'].std()\n",
        "high_subscribers_threshold = df['Suscribers'].mean() + df['Suscribers'].std()\n",
        "\n",
        "high_likes_streamers = df[df['Likes'] > high_likes_threshold]\n",
        "high_comments_streamers = df[df['Comments'] > high_comments_threshold]\n",
        "high_subscribers_streamers = df[df['Suscribers'] > high_subscribers_threshold]\n",
        "\n",
        "print(\"\\nBenchmarking Results:\")\n",
        "print(f\"Streamers with High Likes:\")\n",
        "print(high_likes_streamers[['Rank', 'Likes']])\n",
        "\n",
        "print(f\"\\nStreamers with High Comments:\")\n",
        "print(high_comments_streamers[['Rank', 'Comments']])\n",
        "\n",
        "print(f\"\\nStreamers with High Subscribers:\")\n",
        "print(high_subscribers_streamers[['Rank', 'Suscribers']])\n"
      ],
      "metadata": {
        "id": "0oj_whGgIe63"
      },
      "execution_count": null,
      "outputs": []
    }
  ]
}
